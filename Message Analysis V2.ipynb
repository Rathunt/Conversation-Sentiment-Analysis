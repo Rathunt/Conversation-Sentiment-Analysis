{
 "cells": [
  {
   "cell_type": "code",
   "execution_count": null,
   "metadata": {},
   "outputs": [],
   "source": [
    "#load in file\n",
    "filepath = 'facebook-messages\\messages\\inbox\\MirrenWilson_DIFAxVcXfw\\message_1.json'"
   ]
  },
  {
   "cell_type": "code",
   "execution_count": null,
   "metadata": {},
   "outputs": [],
   "source": [
    "import json\n",
    "with open(filepath) as file:\n",
    "    chat_history = json.load(file)"
   ]
  },
  {
   "cell_type": "code",
   "execution_count": null,
   "metadata": {},
   "outputs": [],
   "source": [
    "#Reading through the messages\n",
    "chat_history"
   ]
  },
  {
   "cell_type": "code",
   "execution_count": null,
   "metadata": {},
   "outputs": [],
   "source": [
    "#looking at keys and exploring data\n",
    "chat_history.keys()"
   ]
  },
  {
   "cell_type": "code",
   "execution_count": null,
   "metadata": {},
   "outputs": [],
   "source": [
    "chat_history['messages']"
   ]
  },
  {
   "cell_type": "code",
   "execution_count": null,
   "metadata": {},
   "outputs": [],
   "source": [
    "import pandas as pd"
   ]
  },
  {
   "cell_type": "code",
   "execution_count": null,
   "metadata": {},
   "outputs": [],
   "source": [
    "#put the data into a pandas dataframe\n",
    "messages = pd.DataFrame(chat_history['messages'])"
   ]
  },
  {
   "cell_type": "code",
   "execution_count": null,
   "metadata": {},
   "outputs": [],
   "source": [
    "#Convert the facebook millisecond timestamp to a useable date format\n",
    "def convertion(timestamp):\n",
    "    return pd.to_datetime(timestamp,unit='ms')"
   ]
  },
  {
   "cell_type": "code",
   "execution_count": null,
   "metadata": {},
   "outputs": [],
   "source": [
    "convertion(1559935327750)"
   ]
  },
  {
   "cell_type": "code",
   "execution_count": null,
   "metadata": {},
   "outputs": [],
   "source": [
    "#apply the convertion to the dataframe \n",
    "messages['date'] = messages['timestamp_ms'].apply(convertion)"
   ]
  },
  {
   "cell_type": "code",
   "execution_count": null,
   "metadata": {},
   "outputs": [],
   "source": [
    "messages"
   ]
  },
  {
   "cell_type": "code",
   "execution_count": null,
   "metadata": {},
   "outputs": [],
   "source": [
    "#defining and applying more date types\n",
    "\n",
    "def month(date):\n",
    "    return date.month\n",
    "def year(date):\n",
    "    return date.year\n",
    "def day(date):\n",
    "    return date.day\n",
    "def daysinmonth(date):\n",
    "    return date.dayofyear\t"
   ]
  },
  {
   "cell_type": "code",
   "execution_count": null,
   "metadata": {},
   "outputs": [],
   "source": [
    "messages['month'] = messages['date'].apply(month)\n",
    "messages['year'] = messages['date'].apply(year)\n",
    "messages['day'] = messages['date'].apply(day)\n",
    "messages['date2'] = messages['date'].apply(daysinmonth)\n",
    "messages"
   ]
  },
  {
   "cell_type": "code",
   "execution_count": null,
   "metadata": {},
   "outputs": [],
   "source": [
    "#importing the natural language toolkit \n",
    "\n",
    "import nltk\n",
    "from nltk.sentiment.vader import SentimentIntensityAnalyzer"
   ]
  },
  {
   "cell_type": "code",
   "execution_count": null,
   "metadata": {},
   "outputs": [],
   "source": [
    "#I will be using the vader sentiment analysis pack for this project\n",
    "\n",
    "nltk.download('vader_lexicon')"
   ]
  },
  {
   "cell_type": "code",
   "execution_count": null,
   "metadata": {},
   "outputs": [],
   "source": [
    "sentiment_analysis = SentimentIntensityAnalyzer()"
   ]
  },
  {
   "cell_type": "code",
   "execution_count": null,
   "metadata": {},
   "outputs": [],
   "source": [
    "#testing the sentiment analyser\n",
    "\n",
    "sentiment_analysis.polarity_scores('i have no opinion on james')"
   ]
  },
  {
   "cell_type": "code",
   "execution_count": null,
   "metadata": {},
   "outputs": [],
   "source": [
    "#I will be using the compound results\n",
    "\n",
    "def polarity(text):\n",
    "    return sentiment_analysis.polarity_scores(text)['compound']"
   ]
  },
  {
   "cell_type": "markdown",
   "metadata": {},
   "source": [
    "This was an attempt to run the sentiment analysis on my text, however I ran into a recursion error, I left in my commented code to document my own learning."
   ]
  },
  {
   "cell_type": "code",
   "execution_count": null,
   "metadata": {},
   "outputs": [],
   "source": [
    "#import nltk\n",
    "#import re\n",
    "\n",
    "#def letters_only(text):\n",
    "    #re.sub(\"[^a-zA-Z]\",  # Search for all non-letters\n",
    "                          #\" \",          # Replace all non-letters with spaces\n",
    "                          #str(messages))\n",
    "    #return letters_only(text)\n",
    "#messages['letters only'] = messages['content'].apply(letters_only)"
   ]
  },
  {
   "cell_type": "code",
   "execution_count": null,
   "metadata": {},
   "outputs": [],
   "source": [
    "#import sys\n",
    "#sys.setrecursionlimit(4000)\n",
    "\n",
    "\n",
    "#messages['letters_only'] = messages['content'].apply(letters_only)"
   ]
  },
  {
   "cell_type": "code",
   "execution_count": null,
   "metadata": {},
   "outputs": [],
   "source": [
    "# coding: UTF-8\n",
    "#try:\n",
    "    #title_trans=''.join(chr(c) if chr(c).isupper() or chr(c).islower() else '' for c in range(256))\n",
    "#except Exception:\n",
    "    #pass"
   ]
  },
  {
   "cell_type": "code",
   "execution_count": null,
   "metadata": {},
   "outputs": [],
   "source": [
    "#try:\n",
    "    #messages['letters_only'] = messages['content'].apply(title_trans)\n",
    "#except Exception:\n",
    "    #pass"
   ]
  },
  {
   "cell_type": "code",
   "execution_count": null,
   "metadata": {},
   "outputs": [],
   "source": [
    "#messages"
   ]
  },
  {
   "cell_type": "code",
   "execution_count": null,
   "metadata": {},
   "outputs": [],
   "source": [
    "#messages['result'] = messages['content'].map(lambda x: x.lstrip('+-').rstrip('aAbBcC'))"
   ]
  },
  {
   "cell_type": "code",
   "execution_count": null,
   "metadata": {},
   "outputs": [],
   "source": [
    "#messages['no numbers'] = messages['content'].astype(str).str.replace('\\D+', '')\n"
   ]
  },
  {
   "cell_type": "code",
   "execution_count": null,
   "metadata": {},
   "outputs": [],
   "source": [
    "#messages"
   ]
  },
  {
   "cell_type": "code",
   "execution_count": null,
   "metadata": {},
   "outputs": [],
   "source": [
    "#Cleaning the data by removing digits\n",
    "\n",
    "messages['no numbers'] = messages['content'].astype(str).str.replace('\\d+', '')"
   ]
  },
  {
   "cell_type": "code",
   "execution_count": null,
   "metadata": {},
   "outputs": [],
   "source": [
    "messages"
   ]
  },
  {
   "cell_type": "code",
   "execution_count": null,
   "metadata": {},
   "outputs": [],
   "source": [
    "#applying the sentiment \n",
    "\n",
    "messages['sentiment'] = messages['no numbers'].apply(polarity)"
   ]
  },
  {
   "cell_type": "code",
   "execution_count": null,
   "metadata": {},
   "outputs": [],
   "source": [
    "messages"
   ]
  },
  {
   "cell_type": "code",
   "execution_count": null,
   "metadata": {},
   "outputs": [],
   "source": [
    "messages.loc[9, 'content']"
   ]
  },
  {
   "cell_type": "code",
   "execution_count": null,
   "metadata": {},
   "outputs": [],
   "source": [
    "#Finding mean results by sender name \n",
    "\n",
    "messages.groupby('sender_name').mean()"
   ]
  },
  {
   "cell_type": "code",
   "execution_count": null,
   "metadata": {},
   "outputs": [],
   "source": [
    "year_month = messages.groupby(['month', 'year', 'sender_name']).mean().reset_index()"
   ]
  },
  {
   "cell_type": "code",
   "execution_count": null,
   "metadata": {},
   "outputs": [],
   "source": [
    "#Finding mean results by month\n",
    "\n",
    "year_month"
   ]
  },
  {
   "cell_type": "code",
   "execution_count": null,
   "metadata": {},
   "outputs": [],
   "source": [
    "#Finding sentiment by month\n",
    "Dan = year_month[year_month['sender_name'] == 'Daniel Howes']['sentiment'].values"
   ]
  },
  {
   "cell_type": "code",
   "execution_count": null,
   "metadata": {},
   "outputs": [],
   "source": [
    "Dan"
   ]
  },
  {
   "cell_type": "code",
   "execution_count": null,
   "metadata": {},
   "outputs": [],
   "source": [
    "Mirren = year_month[year_month['sender_name'] == 'Mirren Wilson']['sentiment'].values"
   ]
  },
  {
   "cell_type": "code",
   "execution_count": null,
   "metadata": {},
   "outputs": [],
   "source": [
    "Mirren"
   ]
  },
  {
   "cell_type": "code",
   "execution_count": null,
   "metadata": {},
   "outputs": [],
   "source": [
    "#Plotting the sentiment change over month in matplotlib\n",
    "\n",
    "import matplotlib.pyplot as plt "
   ]
  },
  {
   "cell_type": "code",
   "execution_count": null,
   "metadata": {},
   "outputs": [],
   "source": [
    "plt.figure(figsize = (20,10))\n",
    "plt.plot(Dan,label = 'Dan')\n",
    "plt.plot(Mirren,label = 'Mirren')\n",
    "plt.legend()"
   ]
  },
  {
   "cell_type": "code",
   "execution_count": null,
   "metadata": {},
   "outputs": [],
   "source": [
    "#further looking into means\n",
    "\n",
    "date = messages.groupby(['date', 'month', 'sender_name']).mean().reset_index()"
   ]
  },
  {
   "cell_type": "code",
   "execution_count": null,
   "metadata": {},
   "outputs": [],
   "source": [
    "date"
   ]
  },
  {
   "cell_type": "code",
   "execution_count": null,
   "metadata": {},
   "outputs": [],
   "source": [
    "#Attempting to plot sentiment over time \n",
    "\n",
    "Dan = date[date['sender_name'] == 'Daniel Howes']['sentiment'].values"
   ]
  },
  {
   "cell_type": "code",
   "execution_count": null,
   "metadata": {},
   "outputs": [],
   "source": [
    "Dan"
   ]
  },
  {
   "cell_type": "code",
   "execution_count": null,
   "metadata": {},
   "outputs": [],
   "source": [
    "Mirren = date[date['sender_name'] == 'Mirren Wilson']['sentiment'].values"
   ]
  },
  {
   "cell_type": "code",
   "execution_count": null,
   "metadata": {},
   "outputs": [],
   "source": [
    "Mirren"
   ]
  },
  {
   "cell_type": "code",
   "execution_count": null,
   "metadata": {},
   "outputs": [],
   "source": [
    "plt.figure(figsize = (20,10))\n",
    "plt.plot(Dan,label = 'Dan')\n",
    "plt.plot(Mirren,label = 'Mirren')"
   ]
  },
  {
   "cell_type": "code",
   "execution_count": null,
   "metadata": {},
   "outputs": [],
   "source": [
    "#Plotting the sentiment per day\n",
    "\n",
    "day = messages.groupby(['day', 'month', 'sender_name']).mean().reset_index()"
   ]
  },
  {
   "cell_type": "code",
   "execution_count": null,
   "metadata": {},
   "outputs": [],
   "source": [
    "Dan = day[day['sender_name'] == 'Daniel Howes']['sentiment'].values"
   ]
  },
  {
   "cell_type": "code",
   "execution_count": null,
   "metadata": {},
   "outputs": [],
   "source": [
    "Mirren = day[day['sender_name'] == 'Mirren Wilson']['sentiment'].values"
   ]
  },
  {
   "cell_type": "code",
   "execution_count": null,
   "metadata": {},
   "outputs": [],
   "source": [
    "import matplotlib  \n",
    "import numpy\n",
    "matplotlib.rc('xtick', labelsize=20)     \n",
    "matplotlib.rc('ytick', labelsize=20)\n",
    "\n",
    "\n",
    "plt.figure(figsize = (20,10))\n",
    "plt.plot(Dan,label='Dan',linewidth=7.0)\n",
    "plt.plot(Mirren,label='Mirren', color='purple',linewidth=7.0)\n",
    "plt.legend()\n",
    "\n"
   ]
  },
  {
   "cell_type": "code",
   "execution_count": null,
   "metadata": {},
   "outputs": [],
   "source": [
    "#results = set()\n",
    "#messages['no numbers'].str.lower().str.split().apply(results.update)"
   ]
  },
  {
   "cell_type": "code",
   "execution_count": null,
   "metadata": {},
   "outputs": [],
   "source": [
    "#looking at the most common words \n",
    "\n",
    "from collections import Counter\n",
    "variable2 = Counter(\" \".join(messages['no numbers'].values.tolist()).split(\" \")).items()\n",
    "variable2"
   ]
  },
  {
   "cell_type": "code",
   "execution_count": null,
   "metadata": {},
   "outputs": [],
   "source": [
    "#tokenizing the messages\n",
    "\n",
    "import re\n",
    "\n",
    "def tokenize(text):\n",
    "    tokens = re.split('\\W+', text)\n",
    "    return tokens"
   ]
  },
  {
   "cell_type": "code",
   "execution_count": null,
   "metadata": {},
   "outputs": [],
   "source": [
    "messages['yoyo'] = messages['no numbers'].apply(tokenize)"
   ]
  },
  {
   "cell_type": "code",
   "execution_count": null,
   "metadata": {},
   "outputs": [],
   "source": [
    "messages['wordcount'] = messages['yoyo'].apply(lambda x: len(x) - x.count(\" \"))"
   ]
  },
  {
   "cell_type": "code",
   "execution_count": null,
   "metadata": {},
   "outputs": [],
   "source": [
    "messages"
   ]
  },
  {
   "cell_type": "code",
   "execution_count": null,
   "metadata": {},
   "outputs": [],
   "source": [
    "messages.groupby('sender_name').mean()"
   ]
  },
  {
   "cell_type": "code",
   "execution_count": null,
   "metadata": {},
   "outputs": [],
   "source": [
    "#Finding the total number of messages sent \n",
    "\n",
    "len(messages[messages['sender_name']=='Daniel Howes'])"
   ]
  },
  {
   "cell_type": "code",
   "execution_count": null,
   "metadata": {},
   "outputs": [],
   "source": [
    "len(messages[messages['sender_name']=='Mirren Wilson'])"
   ]
  },
  {
   "cell_type": "code",
   "execution_count": null,
   "metadata": {},
   "outputs": [],
   "source": [
    "#Attempting to plot the wordcount per day over time \n",
    "\n",
    "day = messages.groupby(['day', 'month', 'sender_name']).mean().reset_index()\n",
    "\n",
    "Dan2 = day[day['sender_name'] == 'Daniel Howes']['wordcount'].values\n",
    "Mirren2 = day[day['sender_name'] == 'Mirren Wilson']['wordcount'].values"
   ]
  },
  {
   "cell_type": "code",
   "execution_count": null,
   "metadata": {},
   "outputs": [],
   "source": [
    "#Exporting the data to csv, I did some of my plotting in excel as I was getting frustrated with matplotlib and hadn't found seaborn and plotly yet.\n",
    "\n",
    "export_csv = messages.to_csv (r'export_dataframe.csv', index = None, header=True) #Don't forget to add '.csv' at the end of the path\n",
    "export_csv"
   ]
  },
  {
   "cell_type": "code",
   "execution_count": null,
   "metadata": {
    "scrolled": true
   },
   "outputs": [],
   "source": [
    "import matplotlib     \n",
    "matplotlib.rc('xtick', labelsize=20)     \n",
    "matplotlib.rc('ytick', labelsize=20)\n",
    "\n",
    "\n",
    "plt.figure(figsize = (20,10))\n",
    "plt.plot(Dan2,label='Dan2')\n",
    "plt.plot(Mirren2,label='Mirren2')\n",
    "plt.legend()\n"
   ]
  },
  {
   "cell_type": "code",
   "execution_count": null,
   "metadata": {},
   "outputs": [],
   "source": [
    "#Plotting the wordcount per message per person over time\n",
    "\n",
    "date = messages.groupby(['date', 'day', 'sender_name']).mean().reset_index()\n",
    "\n",
    "Dan2 = date[date['sender_name'] == 'Daniel Howes']['wordcount'].values\n",
    "Mirren2 = date[date['sender_name'] == 'Mirren Wilson']['wordcount'].values\n",
    "\n"
   ]
  },
  {
   "cell_type": "code",
   "execution_count": null,
   "metadata": {},
   "outputs": [],
   "source": [
    "import matplotlib     \n",
    "matplotlib.rc('xtick', labelsize=20, color = 'white')     \n",
    "matplotlib.rc('ytick', labelsize=20, color = 'white')\n",
    "\n",
    "\n",
    "plt.figure(figsize = (20,10))\n",
    "plt.plot(Dan2,label='Dan')\n",
    "plt.plot(Mirren2,label='Mirren', color='purple')\n",
    "plt.legend()\n"
   ]
  },
  {
   "cell_type": "markdown",
   "metadata": {},
   "source": [
    "Attempting to plot more stuff in matplotlib before switching to excel"
   ]
  },
  {
   "cell_type": "code",
   "execution_count": null,
   "metadata": {},
   "outputs": [],
   "source": [
    "#messages2 = messages.groupby(['date2','sender_name', 'wordcount']).sum()\n",
    "#messages2"
   ]
  },
  {
   "cell_type": "code",
   "execution_count": null,
   "metadata": {},
   "outputs": [],
   "source": [
    "#sum (wordcount)\n",
    "\n",
    "#Dan3 = messages2[messages2['sender_name'] == 'Daniel Howes']['sentiment'].values\n",
    "#Dan = messages2[messages2['sender_name'] == 'Daniel Howes']['sentiment'].values\n",
    "#print (messages.dropna(axis=1, how='all'))\n",
    "\n",
    "#Dan3 = messages2[messages2['sender_name'] == 'Daniel Howes']['wordcount'].values\n",
    "\n",
    "#Mirren3 = messages2[messages2['sender_name'] == 'Mirren Wilson']['wordcount'].values\n",
    "\n"
   ]
  },
  {
   "cell_type": "code",
   "execution_count": null,
   "metadata": {},
   "outputs": [],
   "source": [
    "#Dan3 = year_todate[year_todate['sender_name'] == 'Daniel Howes']['wordcount'].values"
   ]
  },
  {
   "cell_type": "code",
   "execution_count": null,
   "metadata": {},
   "outputs": [],
   "source": [
    "#Mirren3 = year_todate[year_todate['sender_name']=='Mirren Wilson']['wordcount'].values"
   ]
  },
  {
   "cell_type": "code",
   "execution_count": null,
   "metadata": {},
   "outputs": [],
   "source": [
    "#import matplotlib     \n",
    "#matplotlib.rc('xtick', labelsize=20, color = 'black')     \n",
    "#matplotlib.rc('ytick', labelsize=20, color = 'black')\n",
    "\n",
    "\n",
    "#plt.figure(figsize = (20,10))\n",
    "#plt.plot(Dan3,label='Dan')\n",
    "#plt.plot(Mirren3,label='Mirren', color='black')\n",
    "#plt.legend()"
   ]
  },
  {
   "cell_type": "code",
   "execution_count": null,
   "metadata": {},
   "outputs": [],
   "source": [
    "#day = messages.groupby(['day', 'month', 'sender_name']).mean().reset_index()"
   ]
  },
  {
   "cell_type": "code",
   "execution_count": null,
   "metadata": {},
   "outputs": [],
   "source": [
    "#Dan2 = day[day['sender_name'] == 'Daniel Howes']['wordcount'].values\n",
    "#Mirren2 = day[day['sender_name'] == 'Mirren Wilson']['wordcount'].values"
   ]
  }
 ],
 "metadata": {
  "kernelspec": {
   "display_name": "Python 3",
   "language": "python",
   "name": "python3"
  },
  "language_info": {
   "codemirror_mode": {
    "name": "ipython",
    "version": 3
   },
   "file_extension": ".py",
   "mimetype": "text/x-python",
   "name": "python",
   "nbconvert_exporter": "python",
   "pygments_lexer": "ipython3",
   "version": "3.7.1"
  }
 },
 "nbformat": 4,
 "nbformat_minor": 2
}
